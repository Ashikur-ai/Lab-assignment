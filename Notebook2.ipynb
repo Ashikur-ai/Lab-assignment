{
  "nbformat": 4,
  "nbformat_minor": 0,
  "metadata": {
    "colab": {
      "name": "Notebook2.ipynb",
      "provenance": [],
      "authorship_tag": "ABX9TyOw6dQXWFDwz3i6jWsSzTr9",
      "include_colab_link": true
    },
    "kernelspec": {
      "name": "python3",
      "display_name": "Python 3"
    }
  },
  "cells": [
    {
      "cell_type": "markdown",
      "metadata": {
        "id": "view-in-github",
        "colab_type": "text"
      },
      "source": [
        "<a href=\"https://colab.research.google.com/github/Ashikur-ai/Lab-assignment/blob/main/Notebook2.ipynb\" target=\"_parent\"><img src=\"https://colab.research.google.com/assets/colab-badge.svg\" alt=\"Open In Colab\"/></a>"
      ]
    },
    {
      "cell_type": "markdown",
      "metadata": {
        "id": "1AIze00j0-97"
      },
      "source": [
        "# IF statement"
      ]
    },
    {
      "cell_type": "code",
      "metadata": {
        "colab": {
          "base_uri": "https://localhost:8080/"
        },
        "id": "QWAh3weH1Cqt",
        "outputId": "e6628922-8c78-47f2-8901-0742b673de91"
      },
      "source": [
        "grade = 85\r\n",
        "if grade >= 60:\r\n",
        "  print(\"passed\")"
      ],
      "execution_count": 1,
      "outputs": [
        {
          "output_type": "stream",
          "text": [
            "passed\n"
          ],
          "name": "stdout"
        }
      ]
    },
    {
      "cell_type": "markdown",
      "metadata": {
        "id": "V15PDWzD1kna"
      },
      "source": [
        "# If else statement"
      ]
    },
    {
      "cell_type": "code",
      "metadata": {
        "colab": {
          "base_uri": "https://localhost:8080/"
        },
        "id": "-LTXG7lO1nQl",
        "outputId": "864e0e78-12b9-446f-8a94-df65a4070df0"
      },
      "source": [
        "grade = 85\r\n",
        "if grade >= 60:\r\n",
        "  print(\"passed\")\r\n",
        "else:\r\n",
        "  print(\"fail\")"
      ],
      "execution_count": 2,
      "outputs": [
        {
          "output_type": "stream",
          "text": [
            "passed\n"
          ],
          "name": "stdout"
        }
      ]
    },
    {
      "cell_type": "markdown",
      "metadata": {
        "id": "amu1NBoY13mQ"
      },
      "source": [
        "conditional expression"
      ]
    },
    {
      "cell_type": "code",
      "metadata": {
        "id": "rpIbOwdE16Ty"
      },
      "source": [
        "result = ('Passed' if grade >= 60 else 'Failed')"
      ],
      "execution_count": 4,
      "outputs": []
    },
    {
      "cell_type": "code",
      "metadata": {
        "colab": {
          "base_uri": "https://localhost:8080/"
        },
        "id": "aBTDZBDf2kpA",
        "outputId": "abcf1af1-cca2-42cf-f984-ef3f790a53c0"
      },
      "source": [
        "print(result)"
      ],
      "execution_count": 5,
      "outputs": [
        {
          "output_type": "stream",
          "text": [
            "Passed\n"
          ],
          "name": "stdout"
        }
      ]
    },
    {
      "cell_type": "markdown",
      "metadata": {
        "id": "7Rvf8zyz2s-o"
      },
      "source": [
        "# IF...elif....else statement"
      ]
    },
    {
      "cell_type": "code",
      "metadata": {
        "colab": {
          "base_uri": "https://localhost:8080/"
        },
        "id": "Of6mFcId2xT5",
        "outputId": "760a1823-0e06-4100-adef-0a1154a00208"
      },
      "source": [
        "grade = 77\r\n",
        "if grade >= 90:\r\n",
        "  print('A')\r\n",
        "elif grade >= 80:\r\n",
        "  print('B')\r\n",
        "elif grade >= 70:\r\n",
        "  print('C')\r\n",
        "elif grade >= 60:\r\n",
        "  print('D')\r\n",
        "else:\r\n",
        "  print('F')"
      ],
      "execution_count": 6,
      "outputs": [
        {
          "output_type": "stream",
          "text": [
            "C\n"
          ],
          "name": "stdout"
        }
      ]
    },
    {
      "cell_type": "markdown",
      "metadata": {
        "id": "74TqdAKH3QRA"
      },
      "source": [
        "##While Statement"
      ]
    },
    {
      "cell_type": "code",
      "metadata": {
        "colab": {
          "base_uri": "https://localhost:8080/"
        },
        "id": "00XnDFTm3TIQ",
        "outputId": "b2984739-998c-4db1-c952-72e3688337ca"
      },
      "source": [
        "number = 1\r\n",
        "\r\n",
        "while (number<10):\r\n",
        "  print(number, end=\" \")#print in same line with space using end =\" \"\r\n",
        "  number+=1"
      ],
      "execution_count": 7,
      "outputs": [
        {
          "output_type": "stream",
          "text": [
            "1 2 3 4 5 6 7 8 9 "
          ],
          "name": "stdout"
        }
      ]
    },
    {
      "cell_type": "markdown",
      "metadata": {
        "id": "wFpqzIJd3m4Y"
      },
      "source": [
        "while statement to find the first power of 3 larger than 50"
      ]
    },
    {
      "cell_type": "code",
      "metadata": {
        "id": "fD5nW_T_30GQ"
      },
      "source": [
        "product = 3\r\n",
        "\r\n",
        "while product <= 50:\r\n",
        "  product = product*3"
      ],
      "execution_count": 8,
      "outputs": []
    },
    {
      "cell_type": "code",
      "metadata": {
        "colab": {
          "base_uri": "https://localhost:8080/"
        },
        "id": "uvWsaRFO38Sg",
        "outputId": "b5d7d393-a335-4dd0-b5f5-b15c9b3d5edd"
      },
      "source": [
        "print(product)"
      ],
      "execution_count": 9,
      "outputs": [
        {
          "output_type": "stream",
          "text": [
            "81\n"
          ],
          "name": "stdout"
        }
      ]
    },
    {
      "cell_type": "markdown",
      "metadata": {
        "id": "7DMf3nxn4GBo"
      },
      "source": [
        "#**For statement**"
      ]
    },
    {
      "cell_type": "code",
      "metadata": {
        "colab": {
          "base_uri": "https://localhost:8080/"
        },
        "id": "oNNFWkpr4K7D",
        "outputId": "a48d0a13-f0a5-4c82-ee01-26aa96a380ee"
      },
      "source": [
        "for character in \"programming\":\r\n",
        "  print(character, end=\" \")"
      ],
      "execution_count": 10,
      "outputs": [
        {
          "output_type": "stream",
          "text": [
            "p r o g r a m m i n g "
          ],
          "name": "stdout"
        }
      ]
    },
    {
      "cell_type": "markdown",
      "metadata": {
        "id": "tbF0DGeD4Vi0"
      },
      "source": [
        "*Built inRange Function*\r\n",
        "\r\n",
        "*Let's use a for statement and the built-in range function to iterate precisely 10 times, displaying the values from 0 through 9:*"
      ]
    },
    {
      "cell_type": "code",
      "metadata": {
        "colab": {
          "base_uri": "https://localhost:8080/"
        },
        "id": "raMxmLUc4uTd",
        "outputId": "72ddf9dd-c55a-4923-fbc1-567ed47284c7"
      },
      "source": [
        "for counter in range(10):\r\n",
        "  print(counter, end=\" \")"
      ],
      "execution_count": 11,
      "outputs": [
        {
          "output_type": "stream",
          "text": [
            "0 1 2 3 4 5 6 7 8 9 "
          ],
          "name": "stdout"
        }
      ]
    },
    {
      "cell_type": "markdown",
      "metadata": {
        "id": "k3zCrPvA47wB"
      },
      "source": [
        "Use the range function and a for statement to calculate the total of the integers from 0 through 1,000,000"
      ]
    },
    {
      "cell_type": "code",
      "metadata": {
        "colab": {
          "base_uri": "https://localhost:8080/"
        },
        "id": "UbGmopvW5SqY",
        "outputId": "d612d60c-af8a-4786-8a6a-624f4b703a14"
      },
      "source": [
        "total = 0\r\n",
        "for number in range(1000001):\r\n",
        "  total = total+number\r\n",
        "\r\n",
        "print(total)"
      ],
      "execution_count": 12,
      "outputs": [
        {
          "output_type": "stream",
          "text": [
            "500000500000\n"
          ],
          "name": "stdout"
        }
      ]
    },
    {
      "cell_type": "code",
      "metadata": {
        "colab": {
          "base_uri": "https://localhost:8080/"
        },
        "id": "1B1lfKAT6vIy",
        "outputId": "2a5f86fa-f7d2-4c3d-87c8-d93b2c6c0b6b"
      },
      "source": [
        "for number in range(5,10):\r\n",
        "  print(number, end=\" \")"
      ],
      "execution_count": 13,
      "outputs": [
        {
          "output_type": "stream",
          "text": [
            "5 6 7 8 9 "
          ],
          "name": "stdout"
        }
      ]
    },
    {
      "cell_type": "code",
      "metadata": {
        "colab": {
          "base_uri": "https://localhost:8080/"
        },
        "id": "V67v5dxF62kC",
        "outputId": "e941b2c7-7793-48d6-d925-9fca65c43c57"
      },
      "source": [
        "for number in range(0,10,2):\r\n",
        "  print(number, end=\" \")"
      ],
      "execution_count": 15,
      "outputs": [
        {
          "output_type": "stream",
          "text": [
            "0 2 4 6 8 "
          ],
          "name": "stdout"
        }
      ]
    },
    {
      "cell_type": "code",
      "metadata": {
        "colab": {
          "base_uri": "https://localhost:8080/"
        },
        "id": "qvSTADoa7E6I",
        "outputId": "1795428e-0942-4d1d-a0cb-646428f6c57f"
      },
      "source": [
        "for number in range(10,0,-2):\r\n",
        "  print(number, end=\" \")"
      ],
      "execution_count": 16,
      "outputs": [
        {
          "output_type": "stream",
          "text": [
            "10 8 6 4 2 "
          ],
          "name": "stdout"
        }
      ]
    },
    {
      "cell_type": "code",
      "metadata": {
        "colab": {
          "base_uri": "https://localhost:8080/"
        },
        "id": "Si3TrErm7Mhy",
        "outputId": "800a6822-ae96-4e39-89b6-aa1cc54e67f5"
      },
      "source": [
        "number = int(input())"
      ],
      "execution_count": 17,
      "outputs": [
        {
          "output_type": "stream",
          "text": [
            "7\n"
          ],
          "name": "stdout"
        }
      ]
    },
    {
      "cell_type": "code",
      "metadata": {
        "colab": {
          "base_uri": "https://localhost:8080/"
        },
        "id": "tGzjZUh07RjQ",
        "outputId": "f0d38925-9c1f-4d61-8c46-cfc168737c68"
      },
      "source": [
        "for i in range(1, 11):\r\n",
        "  print(number,\"X\",i,\"=\",number*i)"
      ],
      "execution_count": 20,
      "outputs": [
        {
          "output_type": "stream",
          "text": [
            "7 X 1 = 7\n",
            "7 X 2 = 14\n",
            "7 X 3 = 21\n",
            "7 X 4 = 28\n",
            "7 X 5 = 35\n",
            "7 X 6 = 42\n",
            "7 X 7 = 49\n",
            "7 X 8 = 56\n",
            "7 X 9 = 63\n",
            "7 X 10 = 70\n"
          ],
          "name": "stdout"
        }
      ]
    },
    {
      "cell_type": "code",
      "metadata": {
        "colab": {
          "base_uri": "https://localhost:8080/"
        },
        "id": "Ca-3pw_C7dsK",
        "outputId": "30a906c4-beb5-4464-efac-38c377d812e0"
      },
      "source": [
        "for left in range(7):\r\n",
        "  for right in range(left,7):\r\n",
        "    print(\"[\"+str(left)+\"|\"+str(right)+\"]\", end=\" \")\r\n",
        "  print()"
      ],
      "execution_count": 21,
      "outputs": [
        {
          "output_type": "stream",
          "text": [
            "[0|0] [0|1] [0|2] [0|3] [0|4] [0|5] [0|6] \n",
            "[1|1] [1|2] [1|3] [1|4] [1|5] [1|6] \n",
            "[2|2] [2|3] [2|4] [2|5] [2|6] \n",
            "[3|3] [3|4] [3|5] [3|6] \n",
            "[4|4] [4|5] [4|6] \n",
            "[5|5] [5|6] \n",
            "[6|6] \n"
          ],
          "name": "stdout"
        }
      ]
    },
    {
      "cell_type": "code",
      "metadata": {
        "colab": {
          "base_uri": "https://localhost:8080/"
        },
        "id": "TVKWknGc795A",
        "outputId": "98b15187-22fa-4f5c-b8be-043c13ea2d9d"
      },
      "source": [
        "for number in range(10):\r\n",
        "  if number == 5:\r\n",
        "    break\r\n",
        "  print(number, end=\" \")"
      ],
      "execution_count": 22,
      "outputs": [
        {
          "output_type": "stream",
          "text": [
            "0 1 2 3 4 "
          ],
          "name": "stdout"
        }
      ]
    },
    {
      "cell_type": "code",
      "metadata": {
        "colab": {
          "base_uri": "https://localhost:8080/"
        },
        "id": "HxY8QjaO8NaQ",
        "outputId": "51d1ad9d-5ea4-43f3-ff08-a8761d1d5f27"
      },
      "source": [
        "for number in range(10):\r\n",
        "  if number == 5:\r\n",
        "    continue\r\n",
        "  print(number, end=\" \")"
      ],
      "execution_count": 23,
      "outputs": [
        {
          "output_type": "stream",
          "text": [
            "0 1 2 3 4 6 7 8 9 "
          ],
          "name": "stdout"
        }
      ]
    },
    {
      "cell_type": "code",
      "metadata": {
        "id": "6bAJIlzx8Xbp"
      },
      "source": [
        ""
      ],
      "execution_count": null,
      "outputs": []
    }
  ]
}