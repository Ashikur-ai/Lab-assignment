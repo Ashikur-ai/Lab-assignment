{
  "nbformat": 4,
  "nbformat_minor": 0,
  "metadata": {
    "colab": {
      "name": "notebook1.ipynb",
      "provenance": [],
      "authorship_tag": "ABX9TyPRo+c6z03TpdrvM7saBaUR",
      "include_colab_link": true
    },
    "kernelspec": {
      "name": "python3",
      "display_name": "Python 3"
    }
  },
  "cells": [
    {
      "cell_type": "markdown",
      "metadata": {
        "id": "view-in-github",
        "colab_type": "text"
      },
      "source": [
        "<a href=\"https://colab.research.google.com/github/Ashikur-ai/Lab-assignment/blob/main/notebook1.ipynb\" target=\"_parent\"><img src=\"https://colab.research.google.com/assets/colab-badge.svg\" alt=\"Open In Colab\"/></a>"
      ]
    },
    {
      "cell_type": "markdown",
      "metadata": {
        "id": "aJROTpScaqa5"
      },
      "source": [
        "# My Python First Program \"Print Hello World\""
      ]
    },
    {
      "cell_type": "code",
      "metadata": {
        "colab": {
          "base_uri": "https://localhost:8080/"
        },
        "id": "B_wMNUG1a2Uk",
        "outputId": "900a3d36-b074-45cc-83c0-91c430832e85"
      },
      "source": [
        "print(\"Hello World\")"
      ],
      "execution_count": 1,
      "outputs": [
        {
          "output_type": "stream",
          "text": [
            "Hello World\n"
          ],
          "name": "stdout"
        }
      ]
    },
    {
      "cell_type": "markdown",
      "metadata": {
        "id": "b7poWabLbSsV"
      },
      "source": [
        "# Variables and Assignment Statements"
      ]
    },
    {
      "cell_type": "code",
      "metadata": {
        "colab": {
          "base_uri": "https://localhost:8080/"
        },
        "id": "tvmgYChMbW1P",
        "outputId": "60376450-6e9c-41ff-cea7-02775d3fe2e4"
      },
      "source": [
        "x = 7\r\n",
        "y = 3\r\n",
        "print(x+y)"
      ],
      "execution_count": 2,
      "outputs": [
        {
          "output_type": "stream",
          "text": [
            "10\n"
          ],
          "name": "stdout"
        }
      ]
    },
    {
      "cell_type": "code",
      "metadata": {
        "colab": {
          "base_uri": "https://localhost:8080/"
        },
        "id": "bJ8Ei85ObcHj",
        "outputId": "3e525eca-1fb4-426a-9396-3942dee999cd"
      },
      "source": [
        "total = x+y\r\n",
        "print(total)"
      ],
      "execution_count": 3,
      "outputs": [
        {
          "output_type": "stream",
          "text": [
            "10\n"
          ],
          "name": "stdout"
        }
      ]
    },
    {
      "cell_type": "code",
      "metadata": {
        "colab": {
          "base_uri": "https://localhost:8080/"
        },
        "id": "yt9Syqmvbjn7",
        "outputId": "d2dfe753-c354-450c-c50b-1944076a50ab"
      },
      "source": [
        "name = \"Adam\"\r\n",
        "name2 = \"Eva\"\r\n",
        "print(name, name2)"
      ],
      "execution_count": 4,
      "outputs": [
        {
          "output_type": "stream",
          "text": [
            "Adam Eva\n"
          ],
          "name": "stdout"
        }
      ]
    },
    {
      "cell_type": "markdown",
      "metadata": {
        "id": "MFt5UW5KbvDZ"
      },
      "source": [
        "# Types"
      ]
    },
    {
      "cell_type": "code",
      "metadata": {
        "colab": {
          "base_uri": "https://localhost:8080/"
        },
        "id": "bJPKf8ISbw3y",
        "outputId": "a18cf68e-dad7-4d5f-df67-39050c2121bd"
      },
      "source": [
        "x = 10\r\n",
        "type(x)"
      ],
      "execution_count": 5,
      "outputs": [
        {
          "output_type": "execute_result",
          "data": {
            "text/plain": [
              "int"
            ]
          },
          "metadata": {
            "tags": []
          },
          "execution_count": 5
        }
      ]
    },
    {
      "cell_type": "code",
      "metadata": {
        "colab": {
          "base_uri": "https://localhost:8080/"
        },
        "id": "Cbhb6fW_b13U",
        "outputId": "27e14093-3368-4648-c5d4-f6d10edf7a85"
      },
      "source": [
        "type(10.5)"
      ],
      "execution_count": 6,
      "outputs": [
        {
          "output_type": "execute_result",
          "data": {
            "text/plain": [
              "float"
            ]
          },
          "metadata": {
            "tags": []
          },
          "execution_count": 6
        }
      ]
    },
    {
      "cell_type": "code",
      "metadata": {
        "colab": {
          "base_uri": "https://localhost:8080/"
        },
        "id": "Z9h-renGb4sZ",
        "outputId": "e177a7fe-e74c-4065-a984-bbe67d048f5b"
      },
      "source": [
        "type(name)"
      ],
      "execution_count": 7,
      "outputs": [
        {
          "output_type": "execute_result",
          "data": {
            "text/plain": [
              "str"
            ]
          },
          "metadata": {
            "tags": []
          },
          "execution_count": 7
        }
      ]
    },
    {
      "cell_type": "markdown",
      "metadata": {
        "id": "w6Y74_SocBYT"
      },
      "source": [
        "# Arithmetic operators"
      ]
    },
    {
      "cell_type": "code",
      "metadata": {
        "colab": {
          "base_uri": "https://localhost:8080/"
        },
        "id": "GigDb4aCcEZU",
        "outputId": "b113d3f5-445a-49c8-92db-18fddc2d1a85"
      },
      "source": [
        "multiplication = 7*4\r\n",
        "print(multiplication)"
      ],
      "execution_count": 8,
      "outputs": [
        {
          "output_type": "stream",
          "text": [
            "28\n"
          ],
          "name": "stdout"
        }
      ]
    },
    {
      "cell_type": "code",
      "metadata": {
        "colab": {
          "base_uri": "https://localhost:8080/"
        },
        "id": "mGUhumSvcKbS",
        "outputId": "71c0b837-ed6f-4afb-c439-7f617d2080e0"
      },
      "source": [
        "add = 10+15\r\n",
        "print(add)"
      ],
      "execution_count": 9,
      "outputs": [
        {
          "output_type": "stream",
          "text": [
            "25\n"
          ],
          "name": "stdout"
        }
      ]
    },
    {
      "cell_type": "code",
      "metadata": {
        "colab": {
          "base_uri": "https://localhost:8080/"
        },
        "id": "Ii0VTz1vcPVj",
        "outputId": "1e664c60-69b8-4282-c6f8-0eb1eec73464"
      },
      "source": [
        "sub = 40-8\r\n",
        "print(sub)"
      ],
      "execution_count": 10,
      "outputs": [
        {
          "output_type": "stream",
          "text": [
            "32\n"
          ],
          "name": "stdout"
        }
      ]
    },
    {
      "cell_type": "code",
      "metadata": {
        "colab": {
          "base_uri": "https://localhost:8080/"
        },
        "id": "Gq85KkSwcTHc",
        "outputId": "eb554baf-5a68-481b-e484-f48f46f11617"
      },
      "source": [
        "Exponentiation = 2**10\r\n",
        "print(Exponentiation)"
      ],
      "execution_count": 11,
      "outputs": [
        {
          "output_type": "stream",
          "text": [
            "1024\n"
          ],
          "name": "stdout"
        }
      ]
    },
    {
      "cell_type": "markdown",
      "metadata": {
        "id": "iIrWU2yRccHc"
      },
      "source": [
        "# True_Division(/) vs. Floor Division(//)"
      ]
    },
    {
      "cell_type": "code",
      "metadata": {
        "colab": {
          "base_uri": "https://localhost:8080/"
        },
        "id": "ZwCqJkMocmFA",
        "outputId": "9f483aeb-3056-46a7-bff8-b2d500dc79db"
      },
      "source": [
        "True_Division = 7/4\r\n",
        "print(True_Division)"
      ],
      "execution_count": 12,
      "outputs": [
        {
          "output_type": "stream",
          "text": [
            "1.75\n"
          ],
          "name": "stdout"
        }
      ]
    },
    {
      "cell_type": "code",
      "metadata": {
        "colab": {
          "base_uri": "https://localhost:8080/"
        },
        "id": "sjOmswQncwvK",
        "outputId": "474e9179-f661-4825-b855-f400c6bda117"
      },
      "source": [
        "Floor_Division = 7//4\r\n",
        "print(Floor_Division)"
      ],
      "execution_count": 14,
      "outputs": [
        {
          "output_type": "stream",
          "text": [
            "1\n"
          ],
          "name": "stdout"
        }
      ]
    },
    {
      "cell_type": "code",
      "metadata": {
        "colab": {
          "base_uri": "https://localhost:8080/"
        },
        "id": "UWY0_T5Pc5S9",
        "outputId": "4830f48b-c683-4430-ea82-c6376e7769ad"
      },
      "source": [
        "remainder = 15%7\r\n",
        "print(remainder)"
      ],
      "execution_count": 15,
      "outputs": [
        {
          "output_type": "stream",
          "text": [
            "1\n"
          ],
          "name": "stdout"
        }
      ]
    },
    {
      "cell_type": "markdown",
      "metadata": {
        "id": "KRKkWRGudAmM"
      },
      "source": [
        "# Relational Operators"
      ]
    },
    {
      "cell_type": "code",
      "metadata": {
        "id": "F7NBv1O0dDtq"
      },
      "source": [
        "x = 105\r\n",
        "y = 100"
      ],
      "execution_count": 16,
      "outputs": []
    },
    {
      "cell_type": "code",
      "metadata": {
        "colab": {
          "base_uri": "https://localhost:8080/"
        },
        "id": "tVIKHkCJdK_a",
        "outputId": "90d70710-5a41-49bb-f180-ebcffc4b129a"
      },
      "source": [
        "x>y"
      ],
      "execution_count": 17,
      "outputs": [
        {
          "output_type": "execute_result",
          "data": {
            "text/plain": [
              "True"
            ]
          },
          "metadata": {
            "tags": []
          },
          "execution_count": 17
        }
      ]
    },
    {
      "cell_type": "code",
      "metadata": {
        "colab": {
          "base_uri": "https://localhost:8080/"
        },
        "id": "aaOev6GTdNg8",
        "outputId": "b543cc97-f084-42d6-8c5c-ac598868d4c7"
      },
      "source": [
        "x<y"
      ],
      "execution_count": 18,
      "outputs": [
        {
          "output_type": "execute_result",
          "data": {
            "text/plain": [
              "False"
            ]
          },
          "metadata": {
            "tags": []
          },
          "execution_count": 18
        }
      ]
    },
    {
      "cell_type": "code",
      "metadata": {
        "colab": {
          "base_uri": "https://localhost:8080/"
        },
        "id": "bRzxKXfRdPjy",
        "outputId": "542dc9bf-bcca-4468-90a6-2b785d83e608"
      },
      "source": [
        "x==y"
      ],
      "execution_count": 19,
      "outputs": [
        {
          "output_type": "execute_result",
          "data": {
            "text/plain": [
              "False"
            ]
          },
          "metadata": {
            "tags": []
          },
          "execution_count": 19
        }
      ]
    },
    {
      "cell_type": "code",
      "metadata": {
        "colab": {
          "base_uri": "https://localhost:8080/"
        },
        "id": "vk4BmcaqdRYa",
        "outputId": "c688f9c1-9e79-4c44-8235-67ff5da87bf2"
      },
      "source": [
        "x!=y"
      ],
      "execution_count": 20,
      "outputs": [
        {
          "output_type": "execute_result",
          "data": {
            "text/plain": [
              "True"
            ]
          },
          "metadata": {
            "tags": []
          },
          "execution_count": 20
        }
      ]
    },
    {
      "cell_type": "code",
      "metadata": {
        "colab": {
          "base_uri": "https://localhost:8080/"
        },
        "id": "nY6EVxQDdUTi",
        "outputId": "94ee5557-848b-42d1-d79f-146f813ae4e8"
      },
      "source": [
        "x>=y"
      ],
      "execution_count": 21,
      "outputs": [
        {
          "output_type": "execute_result",
          "data": {
            "text/plain": [
              "True"
            ]
          },
          "metadata": {
            "tags": []
          },
          "execution_count": 21
        }
      ]
    },
    {
      "cell_type": "code",
      "metadata": {
        "colab": {
          "base_uri": "https://localhost:8080/"
        },
        "id": "j1dWjnp3dYUs",
        "outputId": "b026cc04-c7e3-48a6-f3ba-5118c6b2f622"
      },
      "source": [
        "x<=y"
      ],
      "execution_count": 22,
      "outputs": [
        {
          "output_type": "execute_result",
          "data": {
            "text/plain": [
              "False"
            ]
          },
          "metadata": {
            "tags": []
          },
          "execution_count": 22
        }
      ]
    },
    {
      "cell_type": "markdown",
      "metadata": {
        "id": "mMS9s5xmdfLw"
      },
      "source": [
        "# Chaining Comparisons"
      ]
    },
    {
      "cell_type": "code",
      "metadata": {
        "id": "R-8rZ4WldhWK"
      },
      "source": [
        "x = 3\r\n",
        "y = 10"
      ],
      "execution_count": 23,
      "outputs": []
    },
    {
      "cell_type": "code",
      "metadata": {
        "colab": {
          "base_uri": "https://localhost:8080/"
        },
        "id": "q_xBU2ArdlS6",
        "outputId": "f95e433e-0aa5-422d-c67f-164863187ba0"
      },
      "source": [
        "1 <= x <= 5"
      ],
      "execution_count": 24,
      "outputs": [
        {
          "output_type": "execute_result",
          "data": {
            "text/plain": [
              "True"
            ]
          },
          "metadata": {
            "tags": []
          },
          "execution_count": 24
        }
      ]
    },
    {
      "cell_type": "code",
      "metadata": {
        "colab": {
          "base_uri": "https://localhost:8080/"
        },
        "id": "XOUt5OxsdqRU",
        "outputId": "0f1cb8e2-c181-4ff0-a2a6-dced7b062e83"
      },
      "source": [
        "1 <= y <= 5"
      ],
      "execution_count": 25,
      "outputs": [
        {
          "output_type": "execute_result",
          "data": {
            "text/plain": [
              "False"
            ]
          },
          "metadata": {
            "tags": []
          },
          "execution_count": 25
        }
      ]
    },
    {
      "cell_type": "markdown",
      "metadata": {
        "id": "3Vn5VLIZdwlq"
      },
      "source": [
        "# Print Function"
      ]
    },
    {
      "cell_type": "markdown",
      "metadata": {
        "id": "yjqr5Qqsd86X"
      },
      "source": [
        "printing a Comma-Separated List of Items"
      ]
    },
    {
      "cell_type": "code",
      "metadata": {
        "colab": {
          "base_uri": "https://localhost:8080/"
        },
        "id": "iGlc2taTeByG",
        "outputId": "4b9c4b95-10e5-4d24-8ca8-fda49d4b030f"
      },
      "source": [
        "print('Welcome', 'to','Python!')"
      ],
      "execution_count": 26,
      "outputs": [
        {
          "output_type": "stream",
          "text": [
            "Welcome to Python!\n"
          ],
          "name": "stdout"
        }
      ]
    },
    {
      "cell_type": "markdown",
      "metadata": {
        "id": "V7J40pRQejoz"
      },
      "source": [
        "Printing Many Lines of Text with One Statement"
      ]
    },
    {
      "cell_type": "code",
      "metadata": {
        "colab": {
          "base_uri": "https://localhost:8080/"
        },
        "id": "nynXxAKiew0N",
        "outputId": "01d60a07-5f2c-415e-9217-c5ca46be7a63"
      },
      "source": [
        "print('Welcome\\nto\\n\\nPython!')"
      ],
      "execution_count": 27,
      "outputs": [
        {
          "output_type": "stream",
          "text": [
            "Welcome\n",
            "to\n",
            "\n",
            "Python!\n"
          ],
          "name": "stdout"
        }
      ]
    },
    {
      "cell_type": "markdown",
      "metadata": {
        "id": "VoE_qRiNe6N1"
      },
      "source": [
        "Ignoring a Line Break in a Long String"
      ]
    },
    {
      "cell_type": "code",
      "metadata": {
        "colab": {
          "base_uri": "https://localhost:8080/"
        },
        "id": "SlIG7izRe-Mj",
        "outputId": "faf6808d-af5d-4d5f-99fe-39c121fb3576"
      },
      "source": [
        "print('this is a longer string, so we \\\r\n",
        "split it over two lines')"
      ],
      "execution_count": 28,
      "outputs": [
        {
          "output_type": "stream",
          "text": [
            "this is a longer string, so we split it over two lines\n"
          ],
          "name": "stdout"
        }
      ]
    },
    {
      "cell_type": "markdown",
      "metadata": {
        "id": "motluEN5fFgB"
      },
      "source": [
        "Printing the Value of an Expression"
      ]
    },
    {
      "cell_type": "code",
      "metadata": {
        "colab": {
          "base_uri": "https://localhost:8080/"
        },
        "id": "B0a0dMU9fIXq",
        "outputId": "d3ed8b35-13d6-4d39-eecc-b55f71b1bbd1"
      },
      "source": [
        "print('Sum is', 7+3)"
      ],
      "execution_count": 29,
      "outputs": [
        {
          "output_type": "stream",
          "text": [
            "Sum is 10\n"
          ],
          "name": "stdout"
        }
      ]
    },
    {
      "cell_type": "code",
      "metadata": {
        "colab": {
          "base_uri": "https://localhost:8080/"
        },
        "id": "g72Ieu2rfOTF",
        "outputId": "1e921c71-ebdb-4529-98de-1511c22655c5"
      },
      "source": [
        "print('int(5.2)', 'truncates 5.2 to', int(5.2))"
      ],
      "execution_count": 30,
      "outputs": [
        {
          "output_type": "stream",
          "text": [
            "int(5.2) truncates 5.2 to 5\n"
          ],
          "name": "stdout"
        }
      ]
    },
    {
      "cell_type": "markdown",
      "metadata": {
        "id": "Oa7Aadhmff5C"
      },
      "source": [
        "Including Quotes in Strings"
      ]
    },
    {
      "cell_type": "code",
      "metadata": {
        "colab": {
          "base_uri": "https://localhost:8080/"
        },
        "id": "I0MKcmyofjsT",
        "outputId": "e4b4f1f9-ff7c-43bc-a739-c480d374b2e0"
      },
      "source": [
        "print('Display \"hi\" in quotes')"
      ],
      "execution_count": 31,
      "outputs": [
        {
          "output_type": "stream",
          "text": [
            "Display \"hi\" in quotes\n"
          ],
          "name": "stdout"
        }
      ]
    },
    {
      "cell_type": "code",
      "metadata": {
        "colab": {
          "base_uri": "https://localhost:8080/"
        },
        "id": "aH-PHrEHfs3c",
        "outputId": "a18fd93a-7287-4fd2-bec0-3c88ae5a7ed5"
      },
      "source": [
        "print(\"Display the name O'Brien\")"
      ],
      "execution_count": 32,
      "outputs": [
        {
          "output_type": "stream",
          "text": [
            "Display the name O'Brien\n"
          ],
          "name": "stdout"
        }
      ]
    },
    {
      "cell_type": "code",
      "metadata": {
        "colab": {
          "base_uri": "https://localhost:8080/"
        },
        "id": "nD-wGhvcf-6T",
        "outputId": "c3a89f5a-c563-4be9-e2d7-afd94ee6ab27"
      },
      "source": [
        "print(\"Display \\\"hi\\\" in quotes\")"
      ],
      "execution_count": 33,
      "outputs": [
        {
          "output_type": "stream",
          "text": [
            "Display \"hi\" in quotes\n"
          ],
          "name": "stdout"
        }
      ]
    },
    {
      "cell_type": "markdown",
      "metadata": {
        "id": "b7gpoga0gGTo"
      },
      "source": [
        "To avoid using 'and \" inside strings, you can enclose such strings in triple quotes:"
      ]
    },
    {
      "cell_type": "code",
      "metadata": {
        "colab": {
          "base_uri": "https://localhost:8080/"
        },
        "id": "PWDk-gwnhJgn",
        "outputId": "6259c12b-090e-4a01-cdd9-ba4c4ade0e1c"
      },
      "source": [
        "print(\"\"\"Display \"hi\" and 'bye' in quotes\"\"\")"
      ],
      "execution_count": 34,
      "outputs": [
        {
          "output_type": "stream",
          "text": [
            "Display \"hi\" and 'bye' in quotes\n"
          ],
          "name": "stdout"
        }
      ]
    },
    {
      "cell_type": "markdown",
      "metadata": {
        "id": "SXb2d6pxhWlQ"
      },
      "source": [
        "Multiline Strings"
      ]
    },
    {
      "cell_type": "code",
      "metadata": {
        "id": "LUZgKgD8hZao"
      },
      "source": [
        "triple_quoted_string = \"\"\"This is a triple-quoted\r\n",
        "string that spans two lines\"\"\""
      ],
      "execution_count": 35,
      "outputs": []
    },
    {
      "cell_type": "code",
      "metadata": {
        "colab": {
          "base_uri": "https://localhost:8080/"
        },
        "id": "UVdwiegthjhq",
        "outputId": "f467e815-60e8-4061-9264-7d437c9a41b9"
      },
      "source": [
        "print(triple_quoted_string)"
      ],
      "execution_count": 36,
      "outputs": [
        {
          "output_type": "stream",
          "text": [
            "This is a triple-quoted\n",
            "string that spans two lines\n"
          ],
          "name": "stdout"
        }
      ]
    },
    {
      "cell_type": "code",
      "metadata": {
        "colab": {
          "base_uri": "https://localhost:8080/",
          "height": 35
        },
        "id": "M6dIXAW4hoEw",
        "outputId": "ae4c409a-ee9d-40aa-ea22-3542ae5c8044"
      },
      "source": [
        "triple_quoted_string"
      ],
      "execution_count": 37,
      "outputs": [
        {
          "output_type": "execute_result",
          "data": {
            "application/vnd.google.colaboratory.intrinsic+json": {
              "type": "string"
            },
            "text/plain": [
              "'This is a triple-quoted\\nstring that spans two lines'"
            ]
          },
          "metadata": {
            "tags": []
          },
          "execution_count": 37
        }
      ]
    },
    {
      "cell_type": "code",
      "metadata": {
        "colab": {
          "base_uri": "https://localhost:8080/"
        },
        "id": "U0ACv_VrhrQp",
        "outputId": "4249da5c-37d5-48a2-f581-31b01911879c"
      },
      "source": [
        "print(\"\"\"This is lengthy\r\n",
        "multiline string containing\r\n",
        "a few lines \\\r\n",
        "of text\"\"\")"
      ],
      "execution_count": 38,
      "outputs": [
        {
          "output_type": "stream",
          "text": [
            "This is lengthy\n",
            "multiline string containing\n",
            "a few lines of text\n"
          ],
          "name": "stdout"
        }
      ]
    },
    {
      "cell_type": "markdown",
      "metadata": {
        "id": "bkF8I15Bh5n8"
      },
      "source": [
        "Precision Handling in Python"
      ]
    },
    {
      "cell_type": "code",
      "metadata": {
        "id": "kNb_-w0Th_LH"
      },
      "source": [
        "a = 3.4536475856"
      ],
      "execution_count": 39,
      "outputs": []
    },
    {
      "cell_type": "code",
      "metadata": {
        "colab": {
          "base_uri": "https://localhost:8080/"
        },
        "id": "z_IiVSNEiK9d",
        "outputId": "a2f60e3c-41cb-4d0c-a73c-a0c862d0e008"
      },
      "source": [
        "# using \"%\" to print value till 2 decimal places\r\n",
        "print(\"The value of number till 2 decimal place(using %)is : \", end=\"\")\r\n",
        "print('%.2f' %a)"
      ],
      "execution_count": 40,
      "outputs": [
        {
          "output_type": "stream",
          "text": [
            "The value of number till 2 decimal place(using %)is : 3.45\n"
          ],
          "name": "stdout"
        }
      ]
    },
    {
      "cell_type": "code",
      "metadata": {
        "colab": {
          "base_uri": "https://localhost:8080/"
        },
        "id": "8IAGtvxyiigr",
        "outputId": "bf0ea8c6-1795-46ce-e2d3-f77fae671052"
      },
      "source": [
        "# using \"%\" to print value till 4 decimal places\r\n",
        "print(\"The value of number till 2 decimal place(using %) is : \",end=\"\")\r\n",
        "print('%4f' %a)"
      ],
      "execution_count": 42,
      "outputs": [
        {
          "output_type": "stream",
          "text": [
            "The value of number till 2 decimal place(using %) is : 3.453648\n"
          ],
          "name": "stdout"
        }
      ]
    },
    {
      "cell_type": "markdown",
      "metadata": {
        "id": "coeSQZ2ujHAt"
      },
      "source": [
        "# Getting Input from the User"
      ]
    },
    {
      "cell_type": "markdown",
      "metadata": {
        "id": "7KWPCN2qjLf_"
      },
      "source": [
        "The built-in input function requests and obtains user input:"
      ]
    },
    {
      "cell_type": "code",
      "metadata": {
        "colab": {
          "base_uri": "https://localhost:8080/"
        },
        "id": "xFkKwQDsjTsy",
        "outputId": "0bbacbf1-7af1-48a8-97d4-d579a2102336"
      },
      "source": [
        "name = input(\"What's your name?\")"
      ],
      "execution_count": 43,
      "outputs": [
        {
          "output_type": "stream",
          "text": [
            "What's your name?Ashik\n"
          ],
          "name": "stdout"
        }
      ]
    },
    {
      "cell_type": "code",
      "metadata": {
        "colab": {
          "base_uri": "https://localhost:8080/"
        },
        "id": "1R-bPvS0jbNS",
        "outputId": "4671ce2c-66a6-4ac6-c21e-84262de94129"
      },
      "source": [
        "print(name)"
      ],
      "execution_count": 44,
      "outputs": [
        {
          "output_type": "stream",
          "text": [
            "Ashik\n"
          ],
          "name": "stdout"
        }
      ]
    },
    {
      "cell_type": "code",
      "metadata": {
        "colab": {
          "base_uri": "https://localhost:8080/"
        },
        "id": "aNp8nDRHjdrM",
        "outputId": "1159de57-47c8-4407-c33e-506f5b9f7785"
      },
      "source": [
        "value1 = input('Enter first number: ')\r\n",
        "value2 = input('Enter second number: ')"
      ],
      "execution_count": 45,
      "outputs": [
        {
          "output_type": "stream",
          "text": [
            "Enter first number: 30\n",
            "Enter second number: 40\n"
          ],
          "name": "stdout"
        }
      ]
    },
    {
      "cell_type": "code",
      "metadata": {
        "colab": {
          "base_uri": "https://localhost:8080/"
        },
        "id": "zevqMhTXjokw",
        "outputId": "6ae8b903-3266-4de6-9cdf-eecef6be3075"
      },
      "source": [
        "total = value1+value2\r\n",
        "print(total)"
      ],
      "execution_count": 46,
      "outputs": [
        {
          "output_type": "stream",
          "text": [
            "3040\n"
          ],
          "name": "stdout"
        }
      ]
    },
    {
      "cell_type": "code",
      "metadata": {
        "colab": {
          "base_uri": "https://localhost:8080/"
        },
        "id": "ocr8pDizjvu0",
        "outputId": "2ea66972-fbe5-4391-9ed3-c1a2e8e8a1fd"
      },
      "source": [
        "type(total) #python takes input as a string we have to type cast the input"
      ],
      "execution_count": 47,
      "outputs": [
        {
          "output_type": "execute_result",
          "data": {
            "text/plain": [
              "str"
            ]
          },
          "metadata": {
            "tags": []
          },
          "execution_count": 47
        }
      ]
    },
    {
      "cell_type": "code",
      "metadata": {
        "colab": {
          "base_uri": "https://localhost:8080/"
        },
        "id": "PKaHXwyQj2uO",
        "outputId": "17fd5e42-19f6-405e-8b9f-305224b29961"
      },
      "source": [
        "total = int(value1) + int(value2) #type casting to int format\r\n",
        "print(total)"
      ],
      "execution_count": 48,
      "outputs": [
        {
          "output_type": "stream",
          "text": [
            "70\n"
          ],
          "name": "stdout"
        }
      ]
    },
    {
      "cell_type": "markdown",
      "metadata": {
        "id": "IYNEMxGYkCup"
      },
      "source": [
        "Getting an Integer from the User by casting the input format"
      ]
    },
    {
      "cell_type": "code",
      "metadata": {
        "colab": {
          "base_uri": "https://localhost:8080/"
        },
        "id": "CEiAetGckICu",
        "outputId": "aa3a55a8-2767-4497-ed35-7c0d3373c0cc"
      },
      "source": [
        "another_value = int(input('Enter another integer: '))"
      ],
      "execution_count": 49,
      "outputs": [
        {
          "output_type": "stream",
          "text": [
            "Enter another integer: 10\n"
          ],
          "name": "stdout"
        }
      ]
    },
    {
      "cell_type": "code",
      "metadata": {
        "colab": {
          "base_uri": "https://localhost:8080/"
        },
        "id": "VV4l_QrwlzOz",
        "outputId": "6b1c6d4d-2fca-4d83-8178-d65f1c2c4172"
      },
      "source": [
        "print(another_value)"
      ],
      "execution_count": 50,
      "outputs": [
        {
          "output_type": "stream",
          "text": [
            "10\n"
          ],
          "name": "stdout"
        }
      ]
    },
    {
      "cell_type": "markdown",
      "metadata": {
        "id": "34r720ixl392"
      },
      "source": [
        "Taking multiple input from the user"
      ]
    },
    {
      "cell_type": "code",
      "metadata": {
        "colab": {
          "base_uri": "https://localhost:8080/"
        },
        "id": "kHTvX_u8l9TD",
        "outputId": "f68c328c-d2f9-43ec-b750-c8afe432e2d4"
      },
      "source": [
        "a, b = input().split()"
      ],
      "execution_count": 51,
      "outputs": [
        {
          "output_type": "stream",
          "text": [
            "10 20\n"
          ],
          "name": "stdout"
        }
      ]
    },
    {
      "cell_type": "code",
      "metadata": {
        "colab": {
          "base_uri": "https://localhost:8080/"
        },
        "id": "7qm4GfhZmGwi",
        "outputId": "7a9006ce-f0af-481f-e338-394ea3846ad1"
      },
      "source": [
        "print(a, b)"
      ],
      "execution_count": 52,
      "outputs": [
        {
          "output_type": "stream",
          "text": [
            "10 20\n"
          ],
          "name": "stdout"
        }
      ]
    },
    {
      "cell_type": "code",
      "metadata": {
        "colab": {
          "base_uri": "https://localhost:8080/"
        },
        "id": "oBgf6bXTmK8_",
        "outputId": "5c3daebf-903f-4219-f0b5-ab43243a585d"
      },
      "source": [
        "print(type(a))"
      ],
      "execution_count": 53,
      "outputs": [
        {
          "output_type": "stream",
          "text": [
            "<class 'str'>\n"
          ],
          "name": "stdout"
        }
      ]
    },
    {
      "cell_type": "markdown",
      "metadata": {
        "id": "LgYY64nFmPAb"
      },
      "source": [
        "# Solving Problem"
      ]
    },
    {
      "cell_type": "markdown",
      "metadata": {
        "id": "DKqfM8zRmRhS"
      },
      "source": [
        "Determining the Minimum and Maximum with Built-in Functions min max"
      ]
    },
    {
      "cell_type": "code",
      "metadata": {
        "colab": {
          "base_uri": "https://localhost:8080/"
        },
        "id": "9--okoDVmZhb",
        "outputId": "2ded6014-d643-446c-a942-6a8f724695c2"
      },
      "source": [
        "number1 = int(input('Enter first integer: '))\r\n",
        "number2 = int(input('Enter second integer: '))\r\n",
        "number3 = int(input('Enter third integer: '))"
      ],
      "execution_count": 54,
      "outputs": [
        {
          "output_type": "stream",
          "text": [
            "Enter first integer: 20\n",
            "Enter second integer: 50\n",
            "Enter third integer: 100\n"
          ],
          "name": "stdout"
        }
      ]
    },
    {
      "cell_type": "code",
      "metadata": {
        "colab": {
          "base_uri": "https://localhost:8080/"
        },
        "id": "0MVnyQMEmvrV",
        "outputId": "d1a01736-59dd-4feb-b135-3c973d1388df"
      },
      "source": [
        "min(number1, number2, number3)"
      ],
      "execution_count": 55,
      "outputs": [
        {
          "output_type": "execute_result",
          "data": {
            "text/plain": [
              "20"
            ]
          },
          "metadata": {
            "tags": []
          },
          "execution_count": 55
        }
      ]
    },
    {
      "cell_type": "code",
      "metadata": {
        "colab": {
          "base_uri": "https://localhost:8080/"
        },
        "id": "617GeVfvm0pe",
        "outputId": "753d3e49-8122-4962-ae90-2b263a375c5a"
      },
      "source": [
        "max(number1, number2, number3)"
      ],
      "execution_count": 56,
      "outputs": [
        {
          "output_type": "execute_result",
          "data": {
            "text/plain": [
              "100"
            ]
          },
          "metadata": {
            "tags": []
          },
          "execution_count": 56
        }
      ]
    },
    {
      "cell_type": "code",
      "metadata": {
        "id": "SnAJYtJLm76x"
      },
      "source": [
        "x = 2\r\n",
        "y = 3"
      ],
      "execution_count": 57,
      "outputs": []
    },
    {
      "cell_type": "code",
      "metadata": {
        "colab": {
          "base_uri": "https://localhost:8080/"
        },
        "id": "mNwzBAwZm-QE",
        "outputId": "60074990-5029-465c-90b4-79a7a6625d34"
      },
      "source": [
        "print('x =',x)\r\n",
        "print('Value of',x,'+',x,'is',(x+x))\r\n",
        "print('x=')\r\n",
        "print((x+y),'=',(y+x))"
      ],
      "execution_count": 58,
      "outputs": [
        {
          "output_type": "stream",
          "text": [
            "x = 2\n",
            "Value of 2 + 2 is 4\n",
            "x=\n",
            "5 = 5\n"
          ],
          "name": "stdout"
        }
      ]
    }
  ]
}